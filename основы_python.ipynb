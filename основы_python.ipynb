{
  "nbformat": 4,
  "nbformat_minor": 0,
  "metadata": {
    "colab": {
      "provenance": [],
      "include_colab_link": true
    },
    "kernelspec": {
      "name": "python3",
      "display_name": "Python 3"
    },
    "language_info": {
      "name": "python"
    }
  },
  "cells": [
    {
      "cell_type": "markdown",
      "metadata": {
        "id": "view-in-github",
        "colab_type": "text"
      },
      "source": [
        "<a href=\"https://colab.research.google.com/github/qcesha/urfu/blob/lab_1/%D0%BE%D1%81%D0%BD%D0%BE%D0%B2%D1%8B_python.ipynb\" target=\"_parent\"><img src=\"https://colab.research.google.com/assets/colab-badge.svg\" alt=\"Open In Colab\"/></a>"
      ]
    },
    {
      "cell_type": "markdown",
      "source": [
        "#Задача 1\n",
        "Написать функцию на вход которой подается строка, состоящая из латинских букв.\n",
        "Функция должна вернуть количество гласных букв (a, e, i, o, u) в этой строке. Написать тесты для кода"
      ],
      "metadata": {
        "id": "M-DGa20PaHnu"
      }
    },
    {
      "cell_type": "code",
      "source": [
        "def count_vowels(str):\n",
        "    vowels = \"AEIOUaeiou\"\n",
        "    return sum(1 for char in str if char in vowels)\n",
        "\n",
        "print(count_vowels('1O3oa4RAiz'))\n",
        "print(count_vowels('python'))\n",
        "print(count_vowels('xyz'))\n",
        "print(count_vowels(''))"
      ],
      "metadata": {
        "id": "XvX8X_JJ6PCb",
        "colab": {
          "base_uri": "https://localhost:8080/"
        },
        "outputId": "aee6fd16-727a-443c-f2e1-1873c0179b60"
      },
      "execution_count": null,
      "outputs": [
        {
          "output_type": "stream",
          "name": "stdout",
          "text": [
            "5\n",
            "1\n",
            "0\n",
            "0\n"
          ]
        }
      ]
    },
    {
      "cell_type": "markdown",
      "source": [
        "# Задача 2\n",
        "Написать функцию на вход, которой подается строка. Функция должна вернуть true, если\n",
        "каждый символ в строке встречается только 1 раз, иначе должна вернуть false. Написать тесты для кода"
      ],
      "metadata": {
        "id": "t2ClV_Y0bbr6"
      }
    },
    {
      "cell_type": "code",
      "source": [
        "def unique_str(str):\n",
        "    return ('false' if ((len(set(str)) < len(str)) or len(str)==0)  else 'true')\n",
        "\n",
        "print(unique_str('abbcd'))\n",
        "print(unique_str('Hello'))\n",
        "print(unique_str('world'))\n",
        "print(unique_str('1234'))\n",
        "print(unique_str(''))"
      ],
      "metadata": {
        "id": "FppbECao6VIz",
        "colab": {
          "base_uri": "https://localhost:8080/"
        },
        "outputId": "2ccfba99-68ed-48a4-8f0c-a2bd115f0ec6"
      },
      "execution_count": null,
      "outputs": [
        {
          "output_type": "stream",
          "name": "stdout",
          "text": [
            "false\n",
            "false\n",
            "true\n",
            "true\n",
            "false\n"
          ]
        }
      ]
    },
    {
      "cell_type": "markdown",
      "source": [
        "# Задача 3\n",
        "Написать функцию, которая принимает положительное число и возвращает количество\n",
        "бит равных 1 в этом числе. Написать тесты для кода"
      ],
      "metadata": {
        "id": "udRiIK1cdt6E"
      }
    },
    {
      "cell_type": "code",
      "source": [
        "def count(num):\n",
        "    assert num >= 0\n",
        "    return sum(1 for i in bin(num)[2:] if i==\"1\")\n",
        "\n",
        "print(count(22))\n",
        "print(count(10))"
      ],
      "metadata": {
        "id": "6tkfDJRz6dp_"
      },
      "execution_count": null,
      "outputs": []
    },
    {
      "cell_type": "markdown",
      "source": [
        "# Задача 4\n",
        "Написать функцию, которая принимает положительное число. Функция должна вернуть то,\n",
        "сколько раз необходимо перемножать цифры числа или результат перемножения, чтобы\n",
        "получилось число состоящее из одной цифры.\n",
        "Например, для входного числа:\n",
        "· 39 функция должна вернуть 3, так как 3*9=27 => 2*7=14 => 1*4=4\n",
        "· 4 функция должна вернуть 0, так как число уже состоит из одной цифры\n",
        "· 999 функция должна вернуть 4, так как 9*9*9=729 => 7*2*9=126 => 1*2*6=12 =>\n",
        "1*2=2. Написать тесты для кода"
      ],
      "metadata": {
        "id": "26dDUz-Ae17N"
      }
    },
    {
      "cell_type": "code",
      "source": [
        "import functools\n",
        "\n",
        "def magic(n):\n",
        "    assert n >= 0\n",
        "    t = 0\n",
        "    while len(str(n)) > 1:\n",
        "        n = (functools.reduce(lambda a, b: a * b, list(map(int, str(n)))))\n",
        "        t += 1\n",
        "    return t\n",
        "\n",
        "print(magic(39))\n",
        "print(magic(999))\n"
      ],
      "metadata": {
        "id": "BH1A_Mgi6i4G",
        "colab": {
          "base_uri": "https://localhost:8080/"
        },
        "outputId": "bc7791ce-96dd-4aa8-c69f-3758e9a22f48"
      },
      "execution_count": null,
      "outputs": [
        {
          "output_type": "stream",
          "name": "stdout",
          "text": [
            "3\n",
            "4\n"
          ]
        }
      ]
    },
    {
      "cell_type": "markdown",
      "source": [
        "# Задача 5\n",
        "Написать функцию, которая принимает два целочисленных вектора одинаковой длины и\n",
        "возвращает среднеквадратическое отклонение двух векторов. Написать тесты для кода"
      ],
      "metadata": {
        "id": "0nS-kIa8g8vd"
      }
    },
    {
      "cell_type": "code",
      "source": [
        "def mse(pred, true):\n",
        "    assert len(pred) == len(true)\n",
        "    sqr = 0\n",
        "    for i in range(len(pred)):\n",
        "        sqr += (pred[i] - true[i]) ** 2\n",
        "\n",
        "    return sqr / len(pred)\n",
        "\n",
        "print(mse([1, 2, 3, 4], [2, 3, 4, 5]))"
      ],
      "metadata": {
        "id": "8iphx4LM6xbx"
      },
      "execution_count": null,
      "outputs": []
    },
    {
      "cell_type": "markdown",
      "source": [
        "# Задача 6\n",
        "Написать функцию, принимающая целое положительное число. Функция должна вернуть\n",
        "строку вида “(n1**p1)(n2**p2)…(nk**pk)” представляющая разложение числа на простые\n",
        "множители (если pi == 1, то выводить только ni).\n",
        "Например, для числа 86240 функция должна вернуть “(2**5)(5)(7**2)(11)”. Написать тесты для кода"
      ],
      "metadata": {
        "id": "vpIPKL439zkw"
      }
    },
    {
      "cell_type": "code",
      "source": [
        "from collections import Counter\n",
        "\n",
        "def prime_factorization(n):\n",
        "    def get_prime_factors(n):\n",
        "        i = 2\n",
        "        factors = []\n",
        "        while i * i <= n:\n",
        "            while (n % i) == 0:\n",
        "                factors.append(i)\n",
        "                n //= i\n",
        "            i += 1\n",
        "        if n > 1:\n",
        "            factors.append(n)\n",
        "        return factors\n",
        "\n",
        "    factors = get_prime_factors(n)\n",
        "    factor_counts = Counter(factors)\n",
        "\n",
        "    result = \"\"\n",
        "    for factor in sorted(factor_counts):\n",
        "        count = factor_counts[factor]\n",
        "        if count == 1:\n",
        "            result += f\"({factor})\"\n",
        "        else:\n",
        "            result += f\"({factor}**{count})\"\n",
        "\n",
        "    return result\n",
        "\n",
        "print(prime_factorization(86240))\n",
        "print(prime_factorization(13))\n",
        "print(prime_factorization(100))"
      ],
      "metadata": {
        "id": "pFebmcZk94Jw",
        "colab": {
          "base_uri": "https://localhost:8080/"
        },
        "outputId": "ea87a7d7-35d5-4b3b-988f-02101f01152a"
      },
      "execution_count": null,
      "outputs": [
        {
          "output_type": "stream",
          "name": "stdout",
          "text": [
            "(2**5)(5)(7**2)(11)\n",
            "(13)\n",
            "(2**2)(5**2)\n"
          ]
        }
      ]
    },
    {
      "cell_type": "markdown",
      "source": [
        "# Задача 7\n",
        "Написать функцию, принимающая целое число n, задающее количество кубиков. Функция\n",
        "должна определить, можно ли из данного кол-ва кубиков построить пирамиду, то есть\n",
        "можно ли представить число n как 1^2+2^2+3^2+…+k^2. Если можно, то функция должна\n",
        "вернуть k, иначе строку “It is impossible”. Написать тесты для кода"
      ],
      "metadata": {
        "id": "ps2s0BudX7A2"
      }
    },
    {
      "cell_type": "code",
      "source": [
        "def pyramid(number):\n",
        "    assert number >= 0\n",
        "    k = 0\n",
        "    while number >= 1:\n",
        "        k+=1\n",
        "        number -= k**2\n",
        "\n",
        "    return k if (number == 0 and k > 0) else 'It is impossible'\n",
        "\n",
        "print(pyramid(3))\n",
        "print(pyramid(14))\n",
        "print(pyramid(30))"
      ],
      "metadata": {
        "id": "3YPjEXxhX_YT"
      },
      "execution_count": null,
      "outputs": []
    },
    {
      "cell_type": "markdown",
      "source": [
        "# Задача 8\n",
        "Функция принимает на вход положительное число и определяет является ли оно сбалансированным, т.е. сумма цифр до средних равна сумме цифр после. Средними в случае нечетного числа цифр считать одну цифру, в случае четного - две средних. Написать тесты для кода"
      ],
      "metadata": {
        "id": "KeKgmIdAQMEJ"
      }
    },
    {
      "cell_type": "code",
      "source": [
        "def balanced_num(num):\n",
        "    l = len(str(num)) // 2\n",
        "    even_num = 1 if len(str(num)) % 2 == 0 else 0\n",
        "    return (sum(map(int, str(num)[:l-even_num])) == sum(map(int, str(num)[-1:l:-1])))\n",
        "\n",
        "print(balanced_num(135622))\n",
        "print(balanced_num(23514))"
      ],
      "metadata": {
        "id": "gMAAqtqlQrZt",
        "colab": {
          "base_uri": "https://localhost:8080/"
        },
        "outputId": "668214cc-87cf-4b2d-82a0-d08e07096643"
      },
      "execution_count": null,
      "outputs": [
        {
          "output_type": "stream",
          "name": "stdout",
          "text": [
            "True\n",
            "True\n"
          ]
        }
      ]
    }
  ]
}